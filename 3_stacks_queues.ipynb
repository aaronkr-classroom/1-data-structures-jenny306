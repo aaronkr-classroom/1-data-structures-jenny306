{
  "nbformat": 4,
  "nbformat_minor": 0,
  "metadata": {
    "colab": {
      "provenance": []
    },
    "kernelspec": {
      "name": "python3",
      "display_name": "Python 3"
    },
    "language_info": {
      "name": "python"
    }
  },
  "cells": [
    {
      "cell_type": "markdown",
      "source": [
        "# Stacks with Arrays"
      ],
      "metadata": {
        "id": "-SBAAOpMFw1H"
      }
    },
    {
      "cell_type": "code",
      "source": [
        "class StackArr:\n",
        "    def __init__(self, size):\n",
        "        \"\"\"\n",
        "        Initialize the stack with a fixed size.\n",
        "        \"\"\"\n",
        "        self.array_size = size  # Initial size of the array\n",
        "        self.top = -1  # Index of the top element in the stack\n",
        "        self.array = [None] * size  # Create an array of fixed size\n",
        "\n",
        "    def push(self, value):\n",
        "        \"\"\"\n",
        "        Push an element onto the stack. If the stack is full, dynamically expand it.\n",
        "        \"\"\"\n",
        "        # If stack is full, expand the array size\n",
        "        if self.top == self.array_size - 1:\n",
        "            self.array_size *= 2  # Double the array size\n",
        "            self.array.extend([None] * (self.array_size - len(self.array)))  # Extend with None\n",
        "            print(\"Array expanded to size:\", self.array_size)\n",
        "\n",
        "        self.top += 1\n",
        "        self.array[self.top] = value  # Add the new value to the top of the stack\n",
        "\n",
        "    def pop(self):\n",
        "        \"\"\"\n",
        "        Pop the top element from the stack.\n",
        "        Returns None if the stack is empty.\n",
        "        \"\"\"\n",
        "        if self.top == -1:\n",
        "            print(\"Stack is empty. Cannot pop.\")\n",
        "            return None  # Stack is empty\n",
        "\n",
        "        value = self.array[self.top]  # Get the top value\n",
        "        self.array[self.top] = None  # Clear the reference for better memory management\n",
        "        self.top -= 1\n",
        "        return value\n",
        "\n",
        "    def is_empty(self):\n",
        "        \"\"\"\n",
        "        Check if the stack is empty.\n",
        "        Returns True if empty, False otherwise.\n",
        "        \"\"\"\n",
        "        return self.top == -1\n",
        "\n",
        "    def peek(self):\n",
        "        \"\"\"\n",
        "        Peek at the top element of the stack without removing it.\n",
        "        Returns None if the stack is empty.\n",
        "        \"\"\"\n",
        "        if self.top == -1:\n",
        "            print(\"Stack is empty. Cannot peek.\")\n",
        "            return None\n",
        "        return self.array[self.top]\n",
        "\n",
        "    def size(self):\n",
        "        \"\"\"\n",
        "        Get the current number of elements in the stack.\n",
        "        \"\"\"\n",
        "        return self.top + 1\n",
        "\n",
        "# Example usage\n",
        "stack = StackArr(3)\n",
        "stack.push(1)\n",
        "stack.push(2)\n",
        "stack.push(3)\n",
        "stack.push(4)  # Triggers array expansion\n",
        "print(\"Top element:\", stack.peek())\n",
        "print(\"Stack size:\", stack.size())\n",
        "while not stack.is_empty():\n",
        "    print(\"Popped:\", stack.pop())\n"
      ],
      "metadata": {
        "id": "pKSNTwGnqVEh",
        "outputId": "546a9029-01de-457f-903c-a5373df828f0",
        "colab": {
          "base_uri": "https://localhost:8080/"
        }
      },
      "execution_count": 7,
      "outputs": [
        {
          "output_type": "stream",
          "name": "stdout",
          "text": [
            "Array expanded to size: 6\n",
            "Top element: 4\n",
            "Stack size: 4\n",
            "Popped: 4\n",
            "Popped: 3\n",
            "Popped: 2\n",
            "Popped: 1\n"
          ]
        }
      ]
    },
    {
      "cell_type": "code",
      "execution_count": null,
      "metadata": {
        "id": "kQHSTqQCGghX"
      },
      "outputs": [],
      "source": [
        "class StackArr:\n",
        "    def __init__(self, size):\n",
        "        self.array_size = size\n",
        "        self.top = -1\n",
        "        self.array = [None] * size\n",
        "\n",
        "    def push(self, value):\n",
        "        # If stack is full, expand the size\n",
        "        if self.top == self.array_size - 1:\n",
        "            self.array_size *= 2\n",
        "            self.array.extend([None] * self.array_size)\n",
        "            print(\"Array expanded to size:\", self.array_size)\n",
        "\n",
        "        self.top += 1\n",
        "        self.array[self.top] = value\n",
        "\n",
        "    def pop(self):\n",
        "        if self.top == -1:\n",
        "            return None  # Stack is empty\n",
        "        value = self.array[self.top]\n",
        "        self.top -= 1\n",
        "        return value\n",
        "\n",
        "    def is_empty(self):\n",
        "        return self.top == -1\n",
        "\n",
        "    def peek(self):\n",
        "        if self.top == -1:\n",
        "            return None\n",
        "        return self.array[self.top]"
      ]
    },
    {
      "cell_type": "markdown",
      "source": [
        "## Reverse String with a Stack"
      ],
      "metadata": {
        "id": "XuIgbabCGANl"
      }
    },
    {
      "cell_type": "code",
      "source": [
        "class StackArr:\n",
        "    def __init__(self, size):\n",
        "        self.stack = [None] * size  # Create a fixed-size stack\n",
        "        self.top = -1              # Initialize the top pointer to -1\n",
        "        self.size = size           # Set the size of the stack\n",
        "\n",
        "    def push(self, item):\n",
        "        if self.top == self.size - 1:\n",
        "            raise OverflowError(\"Stack is full!\")  # Prevent pushing when the stack is full\n",
        "        self.top += 1\n",
        "        self.stack[self.top] = item\n",
        "\n",
        "    def pop(self):\n",
        "        if self.is_empty():\n",
        "            raise IndexError(\"Stack is empty!\")  # Prevent popping from an empty stack\n",
        "        item = self.stack[self.top]\n",
        "        self.top -= 1\n",
        "        return item\n",
        "\n",
        "    def is_empty(self):\n",
        "        return self.top == -1  # Return True if the stack is empty, False otherwise\n",
        "\n",
        "\n",
        "def reverse_string(input_string):\n",
        "    # Initialize a stack with size equal to the length of the input string\n",
        "    stack = StackArr(len(input_string))\n",
        "\n",
        "    # Push each character of the string onto the stack\n",
        "    for char in input_string:\n",
        "        stack.push(char)\n",
        "\n",
        "    # Pop each character from the stack and build the reversed string\n",
        "    reversed_str = ''\n",
        "    while not stack.is_empty():\n",
        "        reversed_str += stack.pop()\n",
        "\n",
        "    return reversed_str\n",
        "\n",
        "\n",
        "# Test the reverse_string function\n",
        "original_string = \"HELLO\"\n",
        "reversed_string = reverse_string(original_string)\n",
        "print(f\"Original: {original_string}, Reversed: {reversed_string}\")\n"
      ],
      "metadata": {
        "id": "F8J7nWR8q6vc",
        "outputId": "c2fd41ac-7865-4fcc-df31-53c9a2390d95",
        "colab": {
          "base_uri": "https://localhost:8080/"
        }
      },
      "execution_count": 8,
      "outputs": [
        {
          "output_type": "stream",
          "name": "stdout",
          "text": [
            "Original: HELLO, Reversed: OLLEH\n"
          ]
        }
      ]
    },
    {
      "cell_type": "code",
      "source": [
        "def reverse_string(input_string): # HELLO = 5\n",
        "    # practice\n",
        "    stack = StackArr(len(input_string)) # size parameter\n",
        "    for char in input_string:\n",
        "      stack.push(char)\n",
        "\n",
        "    reversed_str = ''\n",
        "    while not stack.is_empty():\n",
        "      reversed_str += stack.pop()\n",
        "\n",
        "    return reversed_str"
      ],
      "metadata": {
        "id": "CcfXkkcMF_RO"
      },
      "execution_count": null,
      "outputs": []
    },
    {
      "cell_type": "code",
      "source": [
        "print(reverse_string(\"Tyson Vs. Paul was a money grab!!\"))"
      ],
      "metadata": {
        "colab": {
          "base_uri": "https://localhost:8080/"
        },
        "id": "_7zzR-0_vxsL",
        "outputId": "191771e1-e3a9-4f72-dc39-6431ff1ab407"
      },
      "execution_count": null,
      "outputs": [
        {
          "output_type": "stream",
          "name": "stdout",
          "text": [
            "!!barg yenom a saw luaP .sV nosyT\n"
          ]
        }
      ]
    },
    {
      "cell_type": "markdown",
      "source": [
        "## Undo Feature in Text Editor"
      ],
      "metadata": {
        "id": "i3v-h_OvGSQ2"
      }
    },
    {
      "cell_type": "code",
      "source": [
        "def text_editor_simulation(commands):\n",
        "    # practice\n",
        "    text_stack = StackArr(10)\n",
        "    undo_stack = StackArr(10)\n",
        "\n",
        "    for command in commands:\n",
        "      if command.startswith(\"type \"):\n",
        "        char = command.split()[1]\n",
        "        text_stack.push(char)\n",
        "      elif command == \"undo\":\n",
        "        undo_stack.push(text_stack.pop())\n",
        "      elif command == \"redo\":\n",
        "        if not undo_stack.is_empty():\n",
        "          text_stack.push(undo_stack.pop())\n",
        "          # inside IF\n",
        "        # inside ELIF\n",
        "      # inside FOR\n",
        "    # outside FOR\n",
        "    # Result string\n",
        "    result = \"\"\n",
        "    while not text_stack.is_empty():\n",
        "      result = text_stack.pop() + result\n",
        "\n",
        "    return result"
      ],
      "metadata": {
        "id": "iSc_6rQEGQm_"
      },
      "execution_count": null,
      "outputs": []
    },
    {
      "cell_type": "code",
      "source": [
        "class StackArr:\n",
        "    # A simple stack implementation\n",
        "    def __init__(self, size):\n",
        "        self.stack = []\n",
        "        self.size = size\n",
        "\n",
        "    def push(self, item):\n",
        "        if len(self.stack) < self.size:\n",
        "            self.stack.append(item)\n",
        "        else:\n",
        "            raise OverflowError(\"Stack is full\")\n",
        "\n",
        "    def pop(self):\n",
        "        if not self.is_empty():\n",
        "            return self.stack.pop()\n",
        "        else:\n",
        "            raise IndexError(\"Stack is empty\")\n",
        "\n",
        "    def is_empty(self):\n",
        "        return len(self.stack) == 0\n",
        "\n",
        "    def peek(self):\n",
        "        if not self.is_empty():\n",
        "            return self.stack[-1]\n",
        "        else:\n",
        "            return None\n",
        "\n",
        "def text_editor_simulation(commands):\n",
        "    text_stack = StackArr(100)  # Store the characters in order\n",
        "    undo_stack = StackArr(100)  # Store characters popped for undo\n",
        "\n",
        "    for command in commands:\n",
        "        if command.startswith(\"type \"):  # Add a character\n",
        "            char = command.split()[1]\n",
        "            text_stack.push(char)\n",
        "            # Clear the undo stack to invalidate the redo history after a new action\n",
        "            undo_stack = StackArr(100)\n",
        "        elif command == \"undo\":  # Undo last character\n",
        "            if not text_stack.is_empty():\n",
        "                undo_stack.push(text_stack.pop())\n",
        "        elif command == \"redo\":  # Redo the last undone action\n",
        "            if not undo_stack.is_empty():\n",
        "                text_stack.push(undo_stack.pop())\n",
        "\n",
        "    # Build the result string from the text stack\n",
        "    result = \"\"\n",
        "    while not text_stack.is_empty():\n",
        "        result = text_stack.pop() + result\n",
        "\n",
        "    return result\n",
        "\n",
        "# Example usage\n",
        "commands = [\n",
        "    \"type a\", \"type b\", \"type c\",\n",
        "    \"undo\", \"undo\",\n",
        "    \"redo\", \"type d\"\n",
        "]\n",
        "print(text_editor_simulation(commands))  # Output: \"abd\"\n"
      ],
      "metadata": {
        "id": "qhyOApTgr2oh",
        "outputId": "bc170d12-72e4-4185-ddae-084726463e4f",
        "colab": {
          "base_uri": "https://localhost:8080/"
        }
      },
      "execution_count": 9,
      "outputs": [
        {
          "output_type": "stream",
          "name": "stdout",
          "text": [
            "abd\n"
          ]
        }
      ]
    },
    {
      "cell_type": "code",
      "source": [
        "commands = [\n",
        "    \"type A\", \"type B\", \"type Q\", \"type U\", \"undo\", \"undo\", \"type C\"\n",
        "]\n",
        "print(text_editor_simulation(commands))"
      ],
      "metadata": {
        "colab": {
          "base_uri": "https://localhost:8080/"
        },
        "id": "euZMCyuTzTyu",
        "outputId": "69f9b2e5-23c5-4619-f03e-3bdb9448d9f8"
      },
      "execution_count": null,
      "outputs": [
        {
          "output_type": "stream",
          "name": "stdout",
          "text": [
            "ABC\n"
          ]
        }
      ]
    },
    {
      "cell_type": "markdown",
      "source": [
        "# Stacks with Linked Lists"
      ],
      "metadata": {
        "id": "D5A2W5BsF1VF"
      }
    },
    {
      "cell_type": "code",
      "source": [
        "class LinkedListNode:\n",
        "    def __init__(self, value):\n",
        "        self.value = value\n",
        "        self.next = None\n",
        "\n",
        "class StackLL:\n",
        "    def __init__(self):\n",
        "        self.head = None\n",
        "\n",
        "    def push(self, value):\n",
        "        new_node = LinkedListNode(value)\n",
        "        new_node.next = self.head\n",
        "        self.head = new_node\n",
        "\n",
        "    def pop(self):\n",
        "        if self.head is None:\n",
        "            return None  # Stack is empty\n",
        "        value = self.head.value\n",
        "        self.head = self.head.next\n",
        "        return value\n",
        "\n",
        "    def is_empty(self):\n",
        "        return self.head is None\n",
        "\n",
        "    def peek(self):\n",
        "        if self.head is None:\n",
        "            return None\n",
        "        return self.head.value"
      ],
      "metadata": {
        "id": "8FD52-A-FuXr"
      },
      "execution_count": null,
      "outputs": []
    },
    {
      "cell_type": "code",
      "source": [
        "class LinkedListNode:\n",
        "    def __init__(self, value):\n",
        "        self.value = value\n",
        "        self.next = None\n",
        "\n",
        "class StackLL:\n",
        "    def __init__(self):\n",
        "        self.head = None\n",
        "\n",
        "    def push(self, value):\n",
        "        new_node = LinkedListNode(value)\n",
        "        new_node.next = self.head\n",
        "        self.head = new_node\n",
        "\n",
        "    def pop(self):\n",
        "        if self.head is None:\n",
        "            return None  # Stack is empty\n",
        "        value = self.head.value\n",
        "        self.head = self.head.next\n",
        "        return value\n",
        "\n",
        "    def is_empty(self):\n",
        "        return self.head is None\n",
        "\n",
        "    def peek(self):\n",
        "        if self.head is None:  # Correct indentation here\n",
        "            return None\n",
        "        return self.head.value\n"
      ],
      "metadata": {
        "id": "tb58-DLYsgmE"
      },
      "execution_count": 11,
      "outputs": []
    },
    {
      "cell_type": "markdown",
      "source": [
        "## Check for Balanced Parentheses"
      ],
      "metadata": {
        "id": "SRIuvVphHbnI"
      }
    },
    {
      "cell_type": "code",
      "source": [
        "def is_balanced(expression):\n",
        "    # practice\n",
        "    stack = StackLL()\n",
        "    matching_brackets = {\n",
        "        ')': '(',\n",
        "        '}': '{',\n",
        "        ']': '['\n",
        "    }\n",
        "    for char in expression:\n",
        "      if char in \"({[\":\n",
        "        stack.push(char)\n",
        "      elif char in \")}]\":\n",
        "        top = stack.pop()\n",
        "        if top != matching_brackets[char]: # )\n",
        "          return False\n",
        "\n",
        "    return stack.is_empty()"
      ],
      "metadata": {
        "id": "wnq8TneTF7en"
      },
      "execution_count": null,
      "outputs": []
    },
    {
      "cell_type": "code",
      "source": [
        "print(is_balanced(\"(Hello{nice[to(meet)you]})\")) # True\n",
        "print(is_balanced(\"(Hello{nice[to(meet)you])\")) # False"
      ],
      "metadata": {
        "colab": {
          "base_uri": "https://localhost:8080/"
        },
        "id": "f_OaS1VA5LKC",
        "outputId": "ffc1aca1-162e-4e39-e68e-b3484af1bf65"
      },
      "execution_count": null,
      "outputs": [
        {
          "output_type": "stream",
          "name": "stdout",
          "text": [
            "True\n",
            "False\n"
          ]
        }
      ]
    },
    {
      "cell_type": "markdown",
      "source": [
        "## Browser Navigation"
      ],
      "metadata": {
        "id": "Qv5QgKWiHkbQ"
      }
    },
    {
      "cell_type": "code",
      "source": [
        "def browser_navigation(urls):\n",
        "    # practice\n",
        "    back_stack = StackLL() # previously visited history\n",
        "    forward_stack = StackLL() # after \"back\" history\n",
        "    current_page = None\n",
        "\n",
        "    for action in urls:\n",
        "      if action.startswith(\"visit \"):\n",
        "        if current_page:\n",
        "          back_stack.push(current_page)\n",
        "        current_page = action.split()[1] # visit google.com\n",
        "        # Clear the forward stack because we visited a new page\n",
        "        while not forward_stack.is_empty():\n",
        "          forward_stack.pop()\n",
        "      elif action == \"back\" and not back_stack.is_empty():\n",
        "        forward_stack.push(current_page)\n",
        "        current_page = back_stack.pop()\n",
        "      elif action == \"forward\" and not forward_stack.is_empty():\n",
        "        back_stack.push(current_page)\n",
        "        current_page = forward_stack.pop()\n",
        "\n",
        "      print(\"Current page: \", current_page) # auto \\n\n"
      ],
      "metadata": {
        "id": "WfA_MKK9HfeX"
      },
      "execution_count": null,
      "outputs": []
    },
    {
      "cell_type": "code",
      "source": [
        "commands = [\n",
        "    \"visit wikipedia.org\",\n",
        "    \"visit youtube.com\",\n",
        "    \"visit amazon.com\",\n",
        "    \"back\",\n",
        "    \"back\",\n",
        "    \"forward\",\n",
        "    \"visit yts.mx\",\n",
        "    \"visit ft.com\",\n",
        "    \"visit coinmarketcap.com\",\n",
        "    \"back\",\n",
        "    \"forward\"\n",
        "]\n",
        "browser_navigation(commands)"
      ],
      "metadata": {
        "colab": {
          "base_uri": "https://localhost:8080/"
        },
        "id": "t1aKRhXU8gfU",
        "outputId": "ea4fc5ab-dd43-4953-f161-a985850f40d3"
      },
      "execution_count": null,
      "outputs": [
        {
          "output_type": "stream",
          "name": "stdout",
          "text": [
            "Current page:  wikipedia.org\n",
            "Current page:  youtube.com\n",
            "Current page:  amazon.com\n",
            "Current page:  youtube.com\n",
            "Current page:  wikipedia.org\n",
            "Current page:  youtube.com\n",
            "Current page:  yts.mx\n",
            "Current page:  ft.com\n",
            "Current page:  coinmarketcap.com\n",
            "Current page:  ft.com\n",
            "Current page:  coinmarketcap.com\n"
          ]
        }
      ]
    },
    {
      "cell_type": "markdown",
      "source": [
        "## Explanation\n",
        "\n",
        "1. **Array-based Stack:**\n",
        "  - Uses a list with dynamic resizing (`self.array.extend()`).\n",
        "  - Offers `push()`, `pop()`, `is_empty()`, and `peek()` methods.\n",
        "2. **Linked List-based Stack:**\n",
        "  - Implements stack using `LinkedListNode` to manage nodes.\n",
        "  - No need to resize, as memory is allocated dynamically.\n",
        "3. **Examples:**\n",
        "  - **Reversing a String:** Uses a stack to reverse characters.\n",
        "  - **Balanced Parentheses:** Checks matching brackets using a stack.\n",
        "  - **Text Editor Undo/Redo:** Manages typing and undo/redo commands.\n",
        "  - **Browser Navigation:** Mimics a web browser back/forward navigation.\n",
        "\n",
        "Feel free to try out and modify these examples!"
      ],
      "metadata": {
        "id": "HoXsbKgKMSxv"
      }
    },
    {
      "cell_type": "markdown",
      "source": [
        "---\n",
        "# Queues"
      ],
      "metadata": {
        "id": "qONjyAfIHurA"
      }
    },
    {
      "cell_type": "code",
      "source": [
        "class LinkedListNode:\n",
        "    def __init__(self, value):\n",
        "        self.value = value\n",
        "        self.next = None\n",
        "\n",
        "class Queue:\n",
        "    def __init__(self):\n",
        "        self.front = None\n",
        "        self.back = None\n",
        "\n",
        "    def enqueue(self, value):\n",
        "        new_node = LinkedListNode(value)\n",
        "        if self.back is None:  # Queue is empty\n",
        "            self.front = new_node\n",
        "            self.back = new_node\n",
        "        else:\n",
        "            self.back.next = new_node\n",
        "            self.back = new_node\n",
        "\n",
        "    def dequeue(self):\n",
        "        if self.front is None:  # Queue is empty\n",
        "            return None\n",
        "        value = self.front.value\n",
        "        self.front = self.front.next\n",
        "        if self.front is None:  # If queue becomes empty\n",
        "            self.back = None\n",
        "        return value\n",
        "\n",
        "    def is_empty(self):\n",
        "        return self.front is None\n",
        "\n",
        "    def peek(self):\n",
        "        if self.front is None:\n",
        "            return None\n",
        "        return self.front.value"
      ],
      "metadata": {
        "id": "V-olBGhzHnKX"
      },
      "execution_count": 12,
      "outputs": []
    },
    {
      "cell_type": "markdown",
      "source": [
        "## Simulate a Ticket Counter"
      ],
      "metadata": {
        "id": "MzjUFq4iH0fP"
      }
    },
    {
      "cell_type": "code",
      "source": [
        "def simulate_coffee_counter(customers):\n",
        "    # practice\n",
        "    q = Queue()\n",
        "    for customer in customers:\n",
        "      q.enqueue(customer)\n",
        "\n",
        "    print(\"Serving all customers:\")\n",
        "    while not q.is_empty():\n",
        "      print(\"Serving: \", q.dequeue())"
      ],
      "metadata": {
        "id": "sIE5spn3HyuV"
      },
      "execution_count": null,
      "outputs": []
    },
    {
      "cell_type": "code",
      "source": [
        "simulate_coffee_counter([\n",
        "    \"Aaron\", \"Umid\", \"Umar\", \"Ammar\", \"Elon\", \"Jake\", \"Logan\"\n",
        "])"
      ],
      "metadata": {
        "colab": {
          "base_uri": "https://localhost:8080/"
        },
        "id": "1NyOEUgl-OcE",
        "outputId": "beea2f13-58a1-45a8-b607-589a9a602ccf"
      },
      "execution_count": null,
      "outputs": [
        {
          "output_type": "stream",
          "name": "stdout",
          "text": [
            "Serving all customers:\n",
            "Serving:  Aaron\n",
            "Serving:  Umid\n",
            "Serving:  Umar\n",
            "Serving:  Ammar\n",
            "Serving:  Elon\n",
            "Serving:  Jake\n",
            "Serving:  Logan\n"
          ]
        }
      ]
    },
    {
      "cell_type": "markdown",
      "source": [
        "## Hot Potato Game (Circle Elimination)"
      ],
      "metadata": {
        "id": "CJD5Gq4KH5jR"
      }
    },
    {
      "cell_type": "code",
      "source": [
        "def hot_potato(players, rounds):\n",
        "    #practice"
      ],
      "metadata": {
        "id": "jGwYMtt8H3Hi"
      },
      "execution_count": null,
      "outputs": []
    },
    {
      "cell_type": "code",
      "source": [
        "from collections import deque\n",
        "\n",
        "def hot_potato(players, rounds):\n",
        "    \"\"\"\n",
        "    Simulates the hot potato game.\n",
        "\n",
        "    :param players: List of players participating in the game.\n",
        "    :param rounds: Number of passes before eliminating a player.\n",
        "    :return: The name of the last remaining player.\n",
        "    \"\"\"\n",
        "    # Convert the list of players into a deque for efficient rotation\n",
        "    queue = deque(players)\n",
        "\n",
        "    # Continue until only one player is left\n",
        "    while len(queue) > 1:\n",
        "        # Pass the potato around for the specified number of rounds\n",
        "        for _ in range(rounds):\n",
        "            # Move the player at the front of the queue to the back\n",
        "            queue.append(queue.popleft())\n",
        "\n",
        "        # Eliminate the player holding the potato\n",
        "        eliminated_player = queue.popleft()\n",
        "        print(f\"Player {eliminated_player} has been eliminated.\")\n",
        "\n",
        "    # Return the last remaining player\n",
        "    return queue[0]\n",
        "\n",
        "# Example usage:\n",
        "players_list = [\"Alice\", \"Bob\", \"Charlie\", \"Diana\", \"Eve\"]\n",
        "rounds_count = 3\n",
        "\n",
        "winner = hot_potato(players_list, rounds_count)\n",
        "print(f\"The winner is {winner}!\")\n"
      ],
      "metadata": {
        "id": "zIBrxfyupht6",
        "outputId": "0d6e8e44-b240-40d9-81d2-ecf9ee2c1062",
        "colab": {
          "base_uri": "https://localhost:8080/"
        }
      },
      "execution_count": 5,
      "outputs": [
        {
          "output_type": "stream",
          "name": "stdout",
          "text": [
            "Player Diana has been eliminated.\n",
            "Player Charlie has been eliminated.\n",
            "Player Eve has been eliminated.\n",
            "Player Bob has been eliminated.\n",
            "The winner is Alice!\n"
          ]
        }
      ]
    },
    {
      "cell_type": "markdown",
      "source": [
        "## Printer Job Queue Sim"
      ],
      "metadata": {
        "id": "MoyXEhZDIArA"
      }
    },
    {
      "cell_type": "code",
      "source": [
        "def printer_job_queue(jobs):\n",
        "    # practice"
      ],
      "metadata": {
        "id": "RIwxVS7FH95T"
      },
      "execution_count": null,
      "outputs": []
    },
    {
      "cell_type": "code",
      "source": [
        "from collections import deque\n",
        "\n",
        "class PrinterJobQueue:\n",
        "    def __init__(self):\n",
        "        self.queue = deque()\n",
        "\n",
        "    def add_job(self, job_name, pages):\n",
        "        \"\"\"Add a print job to the queue.\"\"\"\n",
        "        self.queue.append({'job_name': job_name, 'pages': pages})\n",
        "        print(f\"Added job: {job_name} ({pages} pages)\")\n",
        "\n",
        "    def process_job(self):\n",
        "        \"\"\"Process the next job in the queue.\"\"\"\n",
        "        if self.queue:\n",
        "            job = self.queue.popleft()\n",
        "            print(f\"Processing job: {job['job_name']} ({job['pages']} pages)\")\n",
        "            # Simulate printing (e.g., with a loop or just a message)\n",
        "            for i in range(1, job['pages'] + 1):\n",
        "                print(f\"Printing page {i}/{job['pages']}...\")\n",
        "        else:\n",
        "            print(\"No jobs in the queue.\")\n",
        "\n",
        "    def view_queue(self):\n",
        "        \"\"\"Display all jobs in the queue.\"\"\"\n",
        "        if self.queue:\n",
        "            print(\"Jobs in the queue:\")\n",
        "            for idx, job in enumerate(self.queue, start=1):\n",
        "                print(f\"{idx}. {job['job_name']} ({job['pages']} pages)\")\n",
        "        else:\n",
        "            print(\"The queue is empty.\")\n",
        "\n",
        "    def clear_queue(self):\n",
        "        \"\"\"Clear all jobs from the queue.\"\"\"\n",
        "        self.queue.clear()\n",
        "        print(\"Cleared all jobs in the queue.\")\n",
        "\n",
        "# Example usage:\n",
        "printer_queue = PrinterJobQueue()\n",
        "\n",
        "# Add jobs\n",
        "printer_queue.add_job(\"Document1\", 5)\n",
        "printer_queue.add_job(\"Document2\", 10)\n",
        "printer_queue.add_job(\"Photo\", 2)\n",
        "\n",
        "# View queue\n",
        "printer_queue.view_queue()\n",
        "\n",
        "# Process jobs\n",
        "printer_queue.process_job()\n",
        "printer_queue.process_job()\n",
        "\n",
        "# View queue again\n",
        "printer_queue.view_queue()\n",
        "\n",
        "# Clear queue\n",
        "printer_queue.clear_queue()\n",
        "\n",
        "# Try to process when queue is empty\n",
        "printer_queue.process_job()\n"
      ],
      "metadata": {
        "id": "lE1NCxolpKxB",
        "outputId": "a0c98210-87ed-4788-ecd7-9bdd77caef81",
        "colab": {
          "base_uri": "https://localhost:8080/"
        }
      },
      "execution_count": 4,
      "outputs": [
        {
          "output_type": "stream",
          "name": "stdout",
          "text": [
            "Added job: Document1 (5 pages)\n",
            "Added job: Document2 (10 pages)\n",
            "Added job: Photo (2 pages)\n",
            "Jobs in the queue:\n",
            "1. Document1 (5 pages)\n",
            "2. Document2 (10 pages)\n",
            "3. Photo (2 pages)\n",
            "Processing job: Document1 (5 pages)\n",
            "Printing page 1/5...\n",
            "Printing page 2/5...\n",
            "Printing page 3/5...\n",
            "Printing page 4/5...\n",
            "Printing page 5/5...\n",
            "Processing job: Document2 (10 pages)\n",
            "Printing page 1/10...\n",
            "Printing page 2/10...\n",
            "Printing page 3/10...\n",
            "Printing page 4/10...\n",
            "Printing page 5/10...\n",
            "Printing page 6/10...\n",
            "Printing page 7/10...\n",
            "Printing page 8/10...\n",
            "Printing page 9/10...\n",
            "Printing page 10/10...\n",
            "Jobs in the queue:\n",
            "1. Photo (2 pages)\n",
            "Cleared all jobs in the queue.\n",
            "No jobs in the queue.\n"
          ]
        }
      ]
    },
    {
      "cell_type": "markdown",
      "source": [
        "## Customer Service Help Desk"
      ],
      "metadata": {
        "id": "zALlREviIGQ5"
      }
    },
    {
      "cell_type": "code",
      "source": [
        "class HelpDesk:\n",
        "    # practice"
      ],
      "metadata": {
        "id": "TOsozUSQIDSc"
      },
      "execution_count": null,
      "outputs": []
    },
    {
      "cell_type": "code",
      "source": [
        "class HelpDesk:\n",
        "    def __init__(self):\n",
        "        self.tickets = []\n",
        "        self.next_ticket_id = 1\n",
        "\n",
        "    def create_ticket(self, customer_name, issue_description):\n",
        "        \"\"\"\n",
        "        Create a new help desk ticket.\n",
        "        \"\"\"\n",
        "        ticket = {\n",
        "            \"ticket_id\": self.next_ticket_id,\n",
        "            \"customer_name\": customer_name,\n",
        "            \"issue_description\": issue_description,\n",
        "            \"status\": \"Open\",\n",
        "            \"assigned_to\": None\n",
        "        }\n",
        "        self.tickets.append(ticket)\n",
        "        self.next_ticket_id += 1\n",
        "        print(f\"Ticket #{ticket['ticket_id']} created for {customer_name}.\")\n",
        "        return ticket\n",
        "\n",
        "    def assign_ticket(self, ticket_id, staff_name):\n",
        "        \"\"\"\n",
        "        Assign a ticket to a staff member.\n",
        "        \"\"\"\n",
        "        for ticket in self.tickets:\n",
        "            if ticket[\"ticket_id\"] == ticket_id:\n",
        "                if ticket[\"status\"] == \"Open\":\n",
        "                    ticket[\"assigned_to\"] = staff_name\n",
        "                    ticket[\"status\"] = \"In Progress\"\n",
        "                    print(f\"Ticket #{ticket_id} assigned to {staff_name}.\")\n",
        "                    return ticket\n",
        "                else:\n",
        "                    print(f\"Ticket #{ticket_id} cannot be assigned. Current status: {ticket['status']}.\")\n",
        "                    return None\n",
        "        print(f\"Ticket #{ticket_id} not found.\")\n",
        "        return None\n",
        "\n",
        "    def resolve_ticket(self, ticket_id):\n",
        "        \"\"\"\n",
        "        Resolve a ticket.\n",
        "        \"\"\"\n",
        "        for ticket in self.tickets:\n",
        "            if ticket[\"ticket_id\"] == ticket_id:\n",
        "                if ticket[\"status\"] in [\"Open\", \"In Progress\"]:\n",
        "                    ticket[\"status\"] = \"Resolved\"\n",
        "                    print(f\"Ticket #{ticket_id} has been resolved.\")\n",
        "                    return ticket\n",
        "                else:\n",
        "                    print(f\"Ticket #{ticket_id} cannot be resolved. Current status: {ticket['status']}.\")\n",
        "                    return None\n",
        "        print(f\"Ticket #{ticket_id} not found.\")\n",
        "        return None\n",
        "\n",
        "    def list_tickets(self, status=None):\n",
        "        \"\"\"\n",
        "        List tickets, optionally filtering by status.\n",
        "        \"\"\"\n",
        "        filtered_tickets = self.tickets if status is None else [t for t in self.tickets if t[\"status\"] == status]\n",
        "        if not filtered_tickets:\n",
        "            print(f\"No tickets found with status '{status}'.\" if status else \"No tickets found.\")\n",
        "        else:\n",
        "            for ticket in filtered_tickets:\n",
        "                print(f\"Ticket #{ticket['ticket_id']}: {ticket['issue_description']} (Status: {ticket['status']}, Assigned to: {ticket['assigned_to']})\")\n",
        "        return filtered_tickets\n",
        "\n",
        "\n",
        "# Example Usage\n",
        "help_desk = HelpDesk()\n",
        "\n",
        "# Create tickets\n",
        "help_desk.create_ticket(\"Alice\", \"Password reset issue.\")\n",
        "help_desk.create_ticket(\"Bob\", \"Cannot access email.\")\n",
        "\n",
        "# Assign tickets\n",
        "help_desk.assign_ticket(1, \"John Doe\")\n",
        "help_desk.assign_ticket(2, \"Jane Smith\")\n",
        "\n",
        "# List all tickets\n",
        "print(\"\\nAll Tickets:\")\n",
        "help_desk.list_tickets()\n",
        "\n",
        "# Resolve a ticket\n",
        "help_desk.resolve_ticket(1)\n",
        "\n",
        "# List resolved tickets\n",
        "print(\"\\nResolved Tickets:\")\n",
        "help_desk.list_tickets(status=\"Resolved\")\n"
      ],
      "metadata": {
        "id": "5ZZDpWL1onC6",
        "outputId": "7f40bece-33fc-4eb9-d7ca-988d134dec60",
        "colab": {
          "base_uri": "https://localhost:8080/"
        }
      },
      "execution_count": 3,
      "outputs": [
        {
          "output_type": "stream",
          "name": "stdout",
          "text": [
            "Ticket #1 created for Alice.\n",
            "Ticket #2 created for Bob.\n",
            "Ticket #1 assigned to John Doe.\n",
            "Ticket #2 assigned to Jane Smith.\n",
            "\n",
            "All Tickets:\n",
            "Ticket #1: Password reset issue. (Status: In Progress, Assigned to: John Doe)\n",
            "Ticket #2: Cannot access email. (Status: In Progress, Assigned to: Jane Smith)\n",
            "Ticket #1 has been resolved.\n",
            "\n",
            "Resolved Tickets:\n",
            "Ticket #1: Password reset issue. (Status: Resolved, Assigned to: John Doe)\n"
          ]
        },
        {
          "output_type": "execute_result",
          "data": {
            "text/plain": [
              "[{'ticket_id': 1,\n",
              "  'customer_name': 'Alice',\n",
              "  'issue_description': 'Password reset issue.',\n",
              "  'status': 'Resolved',\n",
              "  'assigned_to': 'John Doe'}]"
            ]
          },
          "metadata": {},
          "execution_count": 3
        }
      ]
    },
    {
      "cell_type": "markdown",
      "source": [
        "## Call Center"
      ],
      "metadata": {
        "id": "CX7KOfKNIK3x"
      }
    },
    {
      "cell_type": "code",
      "source": [
        "import random\n",
        "import time\n",
        "\n",
        "def call_center_simulation(calls):\n",
        "    # practice"
      ],
      "metadata": {
        "id": "bYNgfJ6LIIXP"
      },
      "execution_count": null,
      "outputs": []
    },
    {
      "cell_type": "code",
      "source": [
        "import random\n",
        "import time\n",
        "\n",
        "def call_center_simulation(calls):\n",
        "    print(\"Call Center Simulation Started!\")\n",
        "    print(f\"Number of calls to handle: {calls}\\n\")\n",
        "\n",
        "    total_time = 0  # Track total handling time for all calls\n",
        "    handled_calls = 0  # Counter for successfully handled calls\n",
        "\n",
        "    for i in range(1, calls + 1):\n",
        "        print(f\"Handling call {i}...\")\n",
        "        # Simulate random call handling time between 1 and 5 seconds\n",
        "        handling_time = random.randint(1, 5)\n",
        "        time.sleep(handling_time)\n",
        "        total_time += handling_time\n",
        "        handled_calls += 1\n",
        "        print(f\"Call {i} completed in {handling_time} seconds.\")\n",
        "\n",
        "    print(\"\\nAll calls completed!\")\n",
        "    print(f\"Total calls handled: {handled_calls}\")\n",
        "    print(f\"Total time taken: {total_time} seconds\")\n",
        "    print(f\"Average handling time: {total_time / handled_calls:.2f} seconds\")\n",
        "\n",
        "# Example usage\n",
        "call_center_simulation(5)\n"
      ],
      "metadata": {
        "id": "GFORmexqnzLH",
        "outputId": "bec7996f-6851-4ed0-9e39-b7f4c8dc548e",
        "colab": {
          "base_uri": "https://localhost:8080/"
        }
      },
      "execution_count": 2,
      "outputs": [
        {
          "output_type": "stream",
          "name": "stdout",
          "text": [
            "Call Center Simulation Started!\n",
            "Number of calls to handle: 5\n",
            "\n",
            "Handling call 1...\n",
            "Call 1 completed in 1 seconds.\n",
            "Handling call 2...\n",
            "Call 2 completed in 3 seconds.\n",
            "Handling call 3...\n",
            "Call 3 completed in 4 seconds.\n",
            "Handling call 4...\n",
            "Call 4 completed in 2 seconds.\n",
            "Handling call 5...\n",
            "Call 5 completed in 2 seconds.\n",
            "\n",
            "All calls completed!\n",
            "Total calls handled: 5\n",
            "Total time taken: 12 seconds\n",
            "Average handling time: 2.40 seconds\n"
          ]
        }
      ]
    },
    {
      "cell_type": "markdown",
      "source": [
        "## Explanation\n",
        "\n",
        "1. **Queue Implementation:**\n",
        "  - Uses a linked list with front pointing to the first element and back pointing to the last.\n",
        "  - `enqueue()`: Adds a new element to the back of the queue.\n",
        "  - `dequeue()`: Removes and returns the element from the front.\n",
        "  - `is_empty()`: Checks if the queue is empty.\n",
        "  - `peek()`: Returns the front element without removing it.\n",
        "2. **Examples:**\n",
        "  - **Ticket Counter:** Serves customers in the order they arrive.\n",
        "  - **Hot Potato Game:** Eliminates players in a circular manner until one remains.\n",
        "  - **Printer Job Queue:** Simulates jobs being processed in the order they are added.\n",
        "  - **Help Desk Queue:** Handles customer service requests.\n",
        "  - **Call Center:** Simulates a call center handling incoming calls.\n",
        "\n",
        "These scenarios illustrate real-world applications of queues, showing how they manage tasks in a \"first-in, first-out\" (FIFO) manner."
      ],
      "metadata": {
        "id": "hFuEqrpqMqSe"
      }
    },
    {
      "cell_type": "code",
      "source": [],
      "metadata": {
        "id": "CYlqlWKgIMtj"
      },
      "execution_count": null,
      "outputs": []
    }
  ]
}