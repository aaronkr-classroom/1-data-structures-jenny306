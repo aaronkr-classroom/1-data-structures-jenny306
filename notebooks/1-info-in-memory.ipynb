{
 "cells": [
  {
   "cell_type": "markdown",
   "metadata": {},
   "source": [
    "# Array Value Swap\n",
    "\n",
    "This is a simple problem where we are given an array of integers and we have to swap the values of the array at the given indices.\n",
    "\n",
    "**Time Complexity:** The problem is simple and can be solved in O(1) time complexity.\n",
    "\n",
    "![Array Swap](../img/1.1-array-swap.jpg)"
   ]
  },
  {
   "cell_type": "code",
   "execution_count": 8,
   "metadata": {},
   "outputs": [
    {
     "name": "stdout",
     "output_type": "stream",
     "text": [
      "Before swap: [10, 20, 30, 40, 50]\n",
      "After swap: [10, 40, 30, 20, 50]\n"
     ]
    }
   ],
   "source": [
    "# Function to swap two values in an array\n",
    "def swap(arr, index1, index2):\n",
    "    temp=arr[index1]\n",
    "    arr[index1] = arr[index2]\n",
    "    arr[index2] = temp\n",
    "\n",
    "# Example usage\n",
    "array = [10, 20, 30, 40, 50]\n",
    "\n",
    "print(\"Before swap:\", array)\n",
    "\n",
    "# Swap values at index 1 and index 3\n",
    "swap(array, 1, 3)\n",
    "\n",
    "\n",
    "print(\"After swap:\", array)\n"
   ]
  },
  {
   "cell_type": "markdown",
   "metadata": {},
   "source": [
    "# Insertion Sort\n",
    "\n",
    "This is a simple sorting algorithm that builds the final sorted array one item at a time. It is much less efficient on large lists than more advanced algorithms such as quicksort, heapsort, or merge sort.\n",
    "\n",
    "**Time Complexity:** The time complexity of the insertion sort is O(n^2) in the worst case.\n",
    "\n",
    "![Insertion Sort](../img/1.2-insertion-sort.jpg)"
   ]
  },
  {
   "cell_type": "code",
   "execution_count": 7,
   "metadata": {},
   "outputs": [
    {
     "name": "stdout",
     "output_type": "stream",
     "text": [
      "Original array: [12, 11, 13, 5, 6]\n",
      "inside while: array: [12, 12, 13, 5, 6], current: 11, i: (i), j: -1\n",
      "inside while: array: [11, 12, 13, 5, 6], current: 11, i: (i), j: -1\n",
      "inside while: array: [11, 12, 13, 5, 6], current: 13, i: (i), j: 1\n",
      "inside while: array: [11, 12, 13, 13, 6], current: 5, i: (i), j: 1\n",
      "inside while: array: [11, 12, 12, 13, 6], current: 5, i: (i), j: 0\n",
      "inside while: array: [11, 11, 12, 13, 6], current: 5, i: (i), j: -1\n",
      "inside while: array: [5, 11, 12, 13, 6], current: 5, i: (i), j: -1\n",
      "inside while: array: [5, 11, 12, 13, 13], current: 6, i: (i), j: 2\n",
      "inside while: array: [5, 11, 12, 12, 13], current: 6, i: (i), j: 1\n",
      "inside while: array: [5, 11, 11, 12, 13], current: 6, i: (i), j: 0\n",
      "inside while: array: [5, 6, 11, 12, 13], current: 6, i: (i), j: 0\n",
      "Sorted array: [5, 6, 11, 12, 13]\n"
     ]
    }
   ],
   "source": [
    "# Book solution\n",
    "def insertion_sort(A):\n",
    "    N = len(A)\n",
    "    i = 1\n",
    "\n",
    "    while i < N:\n",
    "        current = A[i] #11\n",
    "        j = i-1 # jth index =0\n",
    "\n",
    "        while j >=0 and A[j]>current:\n",
    "            A[j+1] =A[j] # 0th item saved into the 1st item\n",
    "            j -= 1 # j = j - 1\n",
    "            print(f\"inside while: array: {A}, current: {current}, i: (i), j: {j}\")\n",
    "            \n",
    "        A [j + 1] = current\n",
    "        i+=1\n",
    "        print(f\"inside while: array: {A}, current: {current}, i: (i), j: {j}\")\n",
    "\n",
    "\n",
    "\n",
    "# Example usage\n",
    "array = [12, 11, 13, 5, 6]\n",
    "print(\"Original array:\", array)\n",
    "insertion_sort(array)\n",
    "print(\"Sorted array:\", array)"
   ]
  },
  {
   "cell_type": "markdown",
   "metadata": {},
   "source": [
    "# String Equality\n",
    "\n",
    "This is a simple problem where we are given two strings and we have to check if the strings are equal or not.\n",
    "\n",
    "**Time Complexity:** The time complexity of the problem is O(n) where n is the length of the string.\n",
    "\n",
    "![String Equality](../img/1.3-string-equality.jpg)"
   ]
  },
  {
   "cell_type": "code",
   "execution_count": 10,
   "metadata": {},
   "outputs": [
    {
     "ename": "IndentationError",
     "evalue": "unindent does not match any outer indentation level (<string>, line 14)",
     "output_type": "error",
     "traceback": [
      "\u001b[0;36m  File \u001b[0;32m<string>:14\u001b[0;36m\u001b[0m\n\u001b[0;31m    print(f\"Now at index:{i}\")\u001b[0m\n\u001b[0m                               ^\u001b[0m\n\u001b[0;31mIndentationError\u001b[0m\u001b[0;31m:\u001b[0m unindent does not match any outer indentation level\n"
     ]
    }
   ],
   "source": [
    "# Function to check if two strings are exactly equal\n",
    "def compare_strings_exactly(str1, str2):\n",
    "    # same length\n",
    "    if len(str1) != len(str2):\n",
    "        print(\"str1 and str2 are not the same length!\")\n",
    "        return False\n",
    "\n",
    "# compare 1 by 1\n",
    "size = len(str1)\n",
    "i = 0 \n",
    "while i < size and str1 [i] == str2[i]:\n",
    "    i +=1\n",
    "\n",
    " print(f\"Now at index:{i}\") \n",
    "return i == size\n",
    "  \n",
    "# Example usage\n",
    "string1 = \"hello\"\n",
    "string2 = \"hello\"\n",
    "\n",
    "if compare_strings_exactly(string1, string2):\n",
    "    print(f\"{string1} and {string2} are exactly equal.\")\n",
    "else:\n",
    "    print(f\"{string1} and {string2} are not equal.\")"
   ]
  },
  {
   "cell_type": "code",
   "execution_count": null,
   "metadata": {},
   "outputs": [],
   "source": []
  }
 ],
 "metadata": {
  "kernelspec": {
   "display_name": "Python 3",
   "language": "python",
   "name": "python3"
  },
  "language_info": {
   "codemirror_mode": {
    "name": "ipython",
    "version": 3
   },
   "file_extension": ".py",
   "mimetype": "text/x-python",
   "name": "python",
   "nbconvert_exporter": "python",
   "pygments_lexer": "ipython3",
   "version": "3.12.1"
  }
 },
 "nbformat": 4,
 "nbformat_minor": 2
}
